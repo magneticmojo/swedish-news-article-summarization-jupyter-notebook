{
 "cells": [
  {
   "cell_type": "markdown",
   "metadata": {},
   "source": [
    "## Extraktionsbaserad textsammanfattare med olika rankningsmått "
   ]
  },
  {
   "cell_type": "markdown",
   "metadata": {},
   "source": [
    "Prio: \n",
    "* Hämtning | vi väljer korpus \n",
    "* Cleaning / preprocessing \n",
    "* (Under tiden fundera på om vi skulle kunna använda maskinlärningsmetoder på något sätt)"
   ]
  },
  {
   "cell_type": "markdown",
   "metadata": {},
   "source": [
    "# ALGORITHM \n",
    "### Preprocessing\n",
    "* Input corpus \n",
    "* Store away stopwords \n",
    "\n",
    "### Rankingmått \n",
    "* Headings\n",
    "* Cohesion and lexical connectedness criteria\n",
    "Finns underkriterier för måttet \n",
    "* NER (nltk lib)\n",
    "\n",
    "* Store score for each sentence \n",
    "\n",
    "### Assemble output \n",
    "* Reassemble according to ranking \n",
    "* Output summarization "
   ]
  },
  {
   "cell_type": "code",
   "execution_count": 15,
   "metadata": {},
   "outputs": [],
   "source": [
    "# weighted frequency = (word frequency / highest word frequency)\n",
    "# limit sentence length in summary? "
   ]
  },
  {
   "cell_type": "code",
   "execution_count": 16,
   "metadata": {},
   "outputs": [],
   "source": [
    "# Sentece tokenizer\n",
    "# Word Tokenizer \n",
    "# Regex Tokenizer "
   ]
  },
  {
   "cell_type": "code",
   "execution_count": 17,
   "metadata": {},
   "outputs": [],
   "source": [
    "import nltk \n",
    "from urllib import request\n",
    "import re\n",
    "# Beautifulsoup "
   ]
  },
  {
   "cell_type": "code",
   "execution_count": 18,
   "metadata": {},
   "outputs": [],
   "source": [
    "url = \"https://www.aftonbladet.se/nyheter/kolumnister/a/x8w2ln/stockholmare-ar-dummast-i-sverige\"\n",
    "response = request.urlopen(url)\n",
    "raw = response.read().decode('utf8')\n",
    "#print(type(raw))\n",
    "#print(raw)\n",
    "#str = raw.read()\n",
    "#print(type())\n",
    "tokens = nltk.word_tokenize(raw)\n",
    "text = nltk.Text(tokens)"
   ]
  },
  {
   "cell_type": "code",
   "execution_count": 19,
   "metadata": {},
   "outputs": [
    {
     "name": "stdout",
     "output_type": "stream",
     "text": [
      "<class 'str'>\n",
      "0\n"
     ]
    }
   ],
   "source": [
    "#paragraphs = re.compile(\"r\\\\b<p class=\\\"borderColor borderWidth margin padding mqDark hyperion-css-1nrt0vq\\\">.*</p>\\\\b\").findall(raw)\n",
    "paragraphs = re.compile(\"\\\\b<script>\\\\b\").findall(raw)\n",
    "\n",
    "para = re.compile(\"<p>[^<]*<\\/p>\").findall(raw)\n",
    "#para = re.compile(\"\\\\b<script>.*?\\\\b\").findall(raw)\n",
    "print(type(raw))\n",
    "#print(len(paragraphs))\n",
    "print(len(para))"
   ]
  },
  {
   "cell_type": "markdown",
   "metadata": {},
   "source": [
    "# Webscraping \n",
    "* Beautiful soup + urllib.request + re "
   ]
  },
  {
   "cell_type": "code",
   "execution_count": 20,
   "metadata": {},
   "outputs": [],
   "source": [
    "# pip install newspaper3k --> module för att ladda ner artiklar "
   ]
  },
  {
   "cell_type": "markdown",
   "metadata": {},
   "source": [
    "# NLTK ContextIndex --> Sliding window \n",
    "\n",
    "def word_similarity_dict(self, word) -> Sim scores  \n",
    "\n",
    "Orden används i liknande kontexter --> Borde kunna ta bort redundans! \n",
    "Kan finnas andra NLTK-klasser som är användbara \n"
   ]
  }
 ],
 "metadata": {
  "kernelspec": {
   "display_name": "Python 3.10.6 ('venv': venv)",
   "language": "python",
   "name": "python3"
  },
  "language_info": {
   "codemirror_mode": {
    "name": "ipython",
    "version": 3
   },
   "file_extension": ".py",
   "mimetype": "text/x-python",
   "name": "python",
   "nbconvert_exporter": "python",
   "pygments_lexer": "ipython3",
   "version": "3.10.6"
  },
  "orig_nbformat": 4,
  "vscode": {
   "interpreter": {
    "hash": "f84c718007c4e73e911614ffefbbc4d70113307eb785d27a429d66e7eb72440b"
   }
  }
 },
 "nbformat": 4,
 "nbformat_minor": 2
}
