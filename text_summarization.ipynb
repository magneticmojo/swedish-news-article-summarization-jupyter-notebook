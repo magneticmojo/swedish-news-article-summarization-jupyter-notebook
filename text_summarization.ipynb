{
 "cells": [
  {
   "cell_type": "markdown",
   "metadata": {},
   "source": [
    "## Extraktionsbaserad textsammanfattare med olika rankningsmått "
   ]
  },
  {
   "cell_type": "markdown",
   "metadata": {},
   "source": [
    "Prio: \n",
    "* Hämtning | vi väljer korpus \n",
    "* Cleaning / preprocessing \n",
    "* (Under tiden fundera på om vi skulle kunna använda maskinlärningsmetoder på något sätt)\n"
   ]
  },
  {
   "cell_type": "markdown",
   "metadata": {},
   "source": [
    "# ALGORITHM \n",
    "### Preprocessing\n",
    "* Input corpus \n",
    "* Store away stopwords \n",
    "\n",
    "## Rankingmått\n",
    "### Möjliga rankningsmått \n",
    "* Headings --> (Meningar som delar ord med Titeln är troligtvis viktigare)\n",
    "* Kanske överkurs --> Cohesion and lexical connectedness criteria\n",
    "    * Finns underkriterier för måttet \n",
    "    \n",
    "* NER (nltk lib) --> (Meningar med Named Entities är troligtvis viktigare)\n",
    "* TF/IDF --> Behöver lemmiteserare\n",
    "* Baseline (1/N --> n=ordning mening kommer i dvs. första meningen får N=1 -> 1/1, andra meningen får N=2 -> 1/2, osv.)\n",
    "\n",
    "* Store score for each sentence \n",
    "\n",
    "### Valda rankningsmått\n",
    "* Baseline\n",
    "* Headings\n",
    "* TF/IDF (inverse document frequency, Token frequency)\n",
    "\n",
    "### Assemble output \n",
    "* Standardize and combine scores for each sentence\n",
    "* Reassemble according to ranking\n",
    "* Output summarization "
   ]
  },
  {
   "cell_type": "markdown",
   "metadata": {},
   "source": []
  }
 ],
 "metadata": {
  "kernelspec": {
   "display_name": "Python 3.10.6 64-bit",
   "language": "python",
   "name": "python3"
  },
  "language_info": {
   "codemirror_mode": {
    "name": "ipython",
    "version": 3
   },
   "file_extension": ".py",
   "mimetype": "text/x-python",
   "name": "python",
   "nbconvert_exporter": "python",
   "pygments_lexer": "ipython3",
   "version": "3.10.6"
  },
  "orig_nbformat": 4,
  "vscode": {
   "interpreter": {
    "hash": "b0fa6594d8f4cbf19f97940f81e996739fb7646882a419484c72d19e05852a7e"
   }
  }
 },
 "nbformat": 4,
 "nbformat_minor": 2
}
