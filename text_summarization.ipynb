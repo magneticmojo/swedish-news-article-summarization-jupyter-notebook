{
 "cells": [
  {
   "cell_type": "markdown",
   "metadata": {},
   "source": [
    "## Extraktionsbaserad textsammanfattare med olika rankningsmått "
   ]
  },
  {
   "cell_type": "markdown",
   "metadata": {},
   "source": [
    "#### Imports"
   ]
  },
  {
   "cell_type": "code",
   "execution_count": 23,
   "metadata": {},
   "outputs": [],
   "source": [
    "# Imports\n",
    "import pandas as pd\n",
    "from sklearn.preprocessing import StandardScaler\n",
    "import numpy as np\n",
    "import nltk \n",
    "import ssl\n",
    "import re \n",
    "\n",
    "# Summarization length of original text\n",
    "percentage = 0.15\n",
    "\n",
    "# Fixes some errors, found online at https://github.com/gunthercox/ChatterBot/issues/930#issuecomment-322111087\n",
    "try:\n",
    "    _create_unverified_https_context = ssl._create_unverified_context\n",
    "except AttributeError:\n",
    "    pass\n",
    "else:\n",
    "    ssl._create_default_https_context = _create_unverified_https_context"
   ]
  },
  {
   "cell_type": "markdown",
   "metadata": {},
   "source": [
    "#### Input"
   ]
  },
  {
   "cell_type": "code",
   "execution_count": 24,
   "metadata": {},
   "outputs": [],
   "source": [
    "# Web scrapping -->  module för att ladda ner artiklar \n",
    "from newspaper import Article\n",
    "text = \"https://www.aftonbladet.se/nyheter/a/kE6ExL/sd-far-tunga-poster-i-utskotten\"#'https://www.svt.se/nyheter/utrikes/stall-dina-fragor-om-kriget-till-svt-s-utrikesreportrar'\n",
    "article = Article(text, language='sv')\n",
    "article.download()\n",
    "article.parse()\n",
    "text = article.text\n",
    "\n",
    "# Beroende på vilken hemsida nyheten kommer ifrån kan titeln och texten inehålla delar av sidan man egentligen inte bryr sig om\n",
    "# T.ex. från aftonbladet är titeln med i texten och texten innehåller en mening som: \"publicerad: 30 sep\", man kan ta bort detta men \n",
    "# det blir om vi får tid över.\n",
    "\n",
    "#print('Title:' , article.title, '\\n\\nText: \\n', text)"
   ]
  },
  {
   "cell_type": "markdown",
   "metadata": {},
   "source": [
    "# Preprocessing "
   ]
  },
  {
   "cell_type": "markdown",
   "metadata": {},
   "source": [
    "## Overview\n",
    "### Calculate number of sentences to keep\n",
    "\n",
    "### List 1 - sentences\n",
    "* Varje mening separat\n",
    "\n",
    "### Dataframe - scores\n",
    "#### columns are the score of each ranking measure\n",
    "* Baseline\n",
    "* Headings\n",
    "* TF/IDF-score\n",
    "* NER\n",
    "* ~~Class~~ //Om vi har tid för ML\n",
    "\n",
    "### List 2 -> Cleaned for Stop Words \n",
    "* Varje mening separat \n",
    "\n",
    "###"
   ]
  },
  {
   "cell_type": "markdown",
   "metadata": {},
   "source": [
    "##### Original Sentences List"
   ]
  },
  {
   "cell_type": "code",
   "execution_count": 25,
   "metadata": {},
   "outputs": [
    {
     "data": {
      "text/plain": [
       "['SD får tunga poster i utskotten',\n",
       " 'Publicerad: 30 september Uppdaterad: 30 september',\n",
       " 'Sverigedemokraterna får ordförandeposten i riksdagens justitie- och utrikesutskott',\n",
       " 'Nu går ledarna för vänsterblocket till hård attack',\n",
       " '– Det är skrämmande, ganska chockartat, säger Socialdemokraternas gruppledare Lena Hallengren till Aftonbladet']"
      ]
     },
     "execution_count": 25,
     "metadata": {},
     "output_type": "execute_result"
    }
   ],
   "source": [
    "# removes endlines:\n",
    "from token import NEWLINE\n",
    "\n",
    "org_sentences = text.replace('\\n\\n', '. ')\n",
    "# creates some exceptions from above rule\n",
    "org_sentences = org_sentences.replace('.. ', '. ')\n",
    "org_sentences = org_sentences.replace(':. ', ': ')\n",
    "org_sentences = org_sentences.split('. ')\n",
    "\n",
    "org_sentences[0:5]"
   ]
  },
  {
   "cell_type": "markdown",
   "metadata": {},
   "source": [
    "##### Dataframe"
   ]
  },
  {
   "cell_type": "code",
   "execution_count": 26,
   "metadata": {},
   "outputs": [
    {
     "name": "stdout",
     "output_type": "stream",
     "text": [
      "<class 'pandas.core.frame.DataFrame'>\n",
      "RangeIndex: 34 entries, 0 to 33\n",
      "Data columns (total 4 columns):\n",
      " #   Column    Non-Null Count  Dtype\n",
      "---  ------    --------------  -----\n",
      " 0   Baseline  34 non-null     int64\n",
      " 1   Headings  34 non-null     int64\n",
      " 2   TF        34 non-null     int64\n",
      " 3   NER       34 non-null     int64\n",
      "dtypes: int64(4)\n",
      "memory usage: 1.2 KB\n"
     ]
    }
   ],
   "source": [
    "index = range(org_sentences.__len__())\n",
    "columns = ['Baseline', 'Headings', 'TF', 'NER']\n",
    "scores = pd.DataFrame(index=index, columns=columns)\n",
    "scores.fillna(0, inplace=True)\n",
    "scores.info()"
   ]
  },
  {
   "cell_type": "markdown",
   "metadata": {},
   "source": [
    "#### Create spacy doc object"
   ]
  },
  {
   "cell_type": "code",
   "execution_count": 27,
   "metadata": {},
   "outputs": [],
   "source": [
    "import spacy\n",
    "# Credit to Explosion for sv_core_news_sm --> https://github.com/explosion \n",
    "# \"lemmatization accuracy 0.95\"\n",
    "# Create spacy nlp object \n",
    "nlp = spacy.load(\"sv_core_news_sm\") # nlp used by lemmatizer()"
   ]
  },
  {
   "cell_type": "markdown",
   "metadata": {},
   "source": [
    "#### Lemmatizer"
   ]
  },
  {
   "cell_type": "code",
   "execution_count": 28,
   "metadata": {},
   "outputs": [
    {
     "name": "stdout",
     "output_type": "stream",
     "text": [
      "['SD få tung post i utskott ', 'publicerad : 30 september uppdaterad : 30 september ', 'Sverigedemokraterna få ordförandepost i riksdag justitie och utrikesutskott ', 'nu gå ledarna för vänsterblock till hård attack ', '– den vara skrämmande , ganska chockarta , säga Socialdemokraterna gruppledare Lena Hallengren till Aftonbladet ', 'Sverigedemokraterna , Moderat , Kristdemokraterna och Liberalerna ha dela upp post i utskott och EU-nämnden ', 'där ta Sverigedemokraterna flera viktig post ', 'bland annan tilldela parti ordförandepost i arbetsmarknadsutskott , näringsutskott , justitieutskott samt utrikesutskottet , enligt en pressmeddelande ', 'de erhåller även post som vice ordförande i civilutskott , trafikutskott , försvarsutskotte samt skatteutskotte ', '– den som överraska jag mycket , men som jag kunna se varför de vilja ha , vara ordförandepost i utrikesutskott ', 'den vara en tecken på att de lycka i förhandling med M och KD , säga Aftonbladet My Rohwedder i Aftonbladet tv ', '” få liten inflytande ” ', 'Nomineringarna väcka reaktion inom vänsterblock ', '– den vara skrämmande , ganska chockarta ', 'Utrikesutskottet vara inte vilken som gärna , den skola representera Sverige riksdag utomlands och överhuvudtag i relation till omvärld , så den vara en viktig position ', 'och här ha Moderat sålt sig ', 'den vara tyvärr en tecken på vart vi vara på väg , att för Ulf Kristersson del vara den viktig att få makt och inflytande , man sälja sig billig , säga Lena Hallengren , gruppledare för Socialdemokrater och fortsätta : – Utrikesutskottet vara otrolig betydelsefull med en omvärld som vara lite säga orolig ', 'att i en läge peka ut en sverigedemokrat , en parti med rött i nazism , som den som skola företräd svensk folk i riksdag utrikes . ', 'på samma sätt som jag nog vara lite skaka av denna vara den nog ingenting mot vad mången av en land som ge vi säkerhetsgaranti vara , som undra vart Sverige vara på väg ', '” Skämmer ut Sverige internationell ” ', 'flera politisk ledare protestera mot beslut på social medi ', 'Miljöpartiets språkröra Märta stenevi skriva på twitter : ” så en högerextrem parti som inte kunna välja mellan Putin och bid skola leda utrikesutskott och försvarsutskotte ', 'Finnas ju ingen som kunna kunna gå fel i denna ” ', 'V-ledar Nooshie Dadgostar instämma : ” Återigen skämma en icke-tillträdd regering ut Sverige internationell ', 'en här gång genom att ge Sverigedemokraterna ordförandepost i utrikesutskotte ” , skriva hon på twitter ', 'Vänsterpartiets riksdagsledamot ali Esbati lyfta också SD-ledamöterna Martin kinnun och Marku Wiechel besök i Syrien 2017 där de mötte Assad-regim ', '” för utrikesutskott anta jag att den stå mellan Marcus Wiechel och Martin Kinnunen , här bägge på delegationsresa på egen initiativ och mot UD : s avråda , till Syrien 2017 ” , skriva han på twitter ', 'även Centerpartiets avgående partiledare Annie Lööf gå till attack efter beslut : ” så M , KD och L ge SD i uppdrag att leda utrikes- och försvarspolitik i riksdag ', 'i denna känslig säkerhetspolitisk läge , när Sverige skola bli medlem i Nato och vara ordförande i EU ', 'den vara olycklig och komma påverka Sverige anseende i värld ” ', '” få liten inflytande ” ', 'Utrikespolitiska institutets direktör Jakob Hallgren tro dock inte att utskotte komma att ha någon stor inverkan på en svensk utrikespolitik ', '– den här vara en oerhöra viktig post som kanske vara mycket representativ än annan utskottspost , men man måste komma ihåg att inom utrikespolitik ha vi en regering , en utrikesminister och en försvarsminist som ha mycket mycket verkställande makt , säga han och tillägga : – fråga vara hur stor inflytande ordförandefrågorna få om riksdagsparti förhandla fram överenskommelsa i förväg ', 'då komma utskotten att få liten inflytande , säga han . ']\n"
     ]
    }
   ],
   "source": [
    "def lemmatizer(list_of_strings):\n",
    "    lemmatized_sentences = []\n",
    "    lemmatized_sentence = ''\n",
    "    for i in range(len(list_of_strings)): \n",
    "        sentence_to_lemmatize = nlp(list_of_strings[i])\n",
    "        for token in sentence_to_lemmatize:\n",
    "            lemma = token.lemma_\n",
    "            lemmatized_sentence += lemma + ' '  \n",
    "        \n",
    "        lemmatized_sentences.append(lemmatized_sentence)\n",
    "        lemmatized_sentence = '' \n",
    "\n",
    "    return lemmatized_sentences\n",
    "\n",
    "lemma = lemmatizer(org_sentences)\n",
    "print(lemma)"
   ]
  },
  {
   "cell_type": "markdown",
   "metadata": {},
   "source": [
    "#### Proper Nouns"
   ]
  },
  {
   "cell_type": "code",
   "execution_count": 29,
   "metadata": {},
   "outputs": [
    {
     "name": "stdout",
     "output_type": "stream",
     "text": [
      "['SD', 'Socialdemokraternas', 'Lena', 'Aftonbladet', 'KD', 'Rohwedder', 'Aftonbladet', 'Sveriges', 'Kristerssons', 'Lena', 'Hallengren', 'Socialdemokraterna', 'Sverige', 'Sverige', 'Stenevi', 'Putin', 'Biden', 'Sverige', 'Esbati', 'Martin', 'Kinnunen', 'Markus', 'Wiechels', 'Syrien', 'Wiechel', 'Martin', 'Kinnunen', 'UD', 'Syrien', 'Annie', 'KD', 'SD', 'Sverige', 'Nato', 'EU', 'Sveriges', 'Jakob', 'Hallgren']\n"
     ]
    }
   ],
   "source": [
    "def proper_nouns(list_of_strings):\n",
    "    proper_nouns = []\n",
    "    for i in range(len(list_of_strings)): \n",
    "        sentence_to_pos = nlp(list_of_strings[i])\n",
    "        for token in sentence_to_pos: \n",
    "            token_str = token.text\n",
    "            if token.pos_ == \"PROPN\" and len(token_str) > 1:\n",
    "                proper_nouns.append(token_str)\n",
    "    return proper_nouns\n",
    "\n",
    "print(proper_nouns(org_sentences))\n"
   ]
  },
  {
   "cell_type": "markdown",
   "metadata": {},
   "source": [
    "#### Named Entities"
   ]
  },
  {
   "cell_type": "code",
   "execution_count": 30,
   "metadata": {},
   "outputs": [],
   "source": [
    "def named_entity_recognition(list_of_strings):\n",
    "    doc = nlp(' '.join(list_of_strings))\n",
    "    # Convert tuple[Span] to str\n",
    "    named_entities = doc.ents.__str__()\n",
    "    # Remove string parenthesis \n",
    "    named_entities = named_entities[1:len(named_entities) - 1]\n",
    "    # Create list of strings\n",
    "    named_entities = named_entities.split(',')\n",
    "    return named_entities"
   ]
  },
  {
   "cell_type": "markdown",
   "metadata": {},
   "source": [
    "### Stop Word Filtering"
   ]
  },
  {
   "cell_type": "code",
   "execution_count": 31,
   "metadata": {},
   "outputs": [],
   "source": [
    "# Inspired by https://www.geeksforgeeks.org/removing-stop-words-nltk-python/\n",
    "from nltk.corpus import stopwords\n",
    "from nltk.tokenize import word_tokenize\n",
    "from nltk.probability import FreqDist\n",
    "\n",
    "def get_swe_stop_words(): \n",
    "    swe_stop_words = set(stopwords.words('swedish'))\n",
    "    swe_stop_words.update([',', '\"', ':', '-', '–', '”'])\n",
    "    return swe_stop_words\n",
    "\n",
    "def stop_word_filtering(list_of_strings):\n",
    "    word_tokens = word_tokenize(' '.join(org_sentences))\n",
    "    filtered_sentence = [w for w in word_tokens if not w.lower() in get_swe_stop_words()]\n",
    "    return filtered_sentence"
   ]
  },
  {
   "cell_type": "markdown",
   "metadata": {},
   "source": [
    "#### Frequency Distribution "
   ]
  },
  {
   "cell_type": "code",
   "execution_count": 32,
   "metadata": {},
   "outputs": [],
   "source": [
    "def frequency_distribution(list): \n",
    "    fdist = FreqDist(word.lower() for word in word_tokenize(' '.join(list)))\n",
    "    return fdist"
   ]
  },
  {
   "cell_type": "code",
   "execution_count": 33,
   "metadata": {},
   "outputs": [
    {
     "name": "stdout",
     "output_type": "stream",
     "text": [
      "['SD', 'får', 'tunga', 'poster', 'utskotten', 'Publicerad', '30', 'september', 'Uppdaterad', '30', 'september', 'Sverigedemokraterna', 'får', 'ordförandeposten', 'riksdagens', 'justitie-', 'utrikesutskott', 'går', 'ledarna', 'vänsterblocket', 'hård', 'attack', 'skrämmande', 'ganska', 'chockartat', 'säger', 'Socialdemokraternas', 'gruppledare', 'Lena', 'Hallengren', 'Aftonbladet', 'Sverigedemokraterna', 'Moderaterna', 'Kristdemokraterna', 'Liberalerna', 'delat', 'posterna', 'utskotten', 'EU-nämnden', 'tar', 'Sverigedemokraterna', 'flera', 'viktiga', 'poster', 'Bland', 'annat', 'tilldelas', 'partiet', 'ordförandeposten', 'arbetsmarknadsutskottet', 'näringsutskottet', 'justitieutskottet', 'samt', 'utrikesutskottet', 'enligt', 'pressmeddelande', 'erhåller', 'även', 'posten', 'vice', 'ordförande', 'civilutskottet', 'trafikutskottet', 'försvarsutskottet', 'samt', 'skatteutskottet', 'överraskade', 'mest', 'se', 'vill', 'ordförandeposten', 'utrikesutskottet', 'tecken', 'lyckats', 'förhandlingen', 'M', 'KD', 'säger', 'Aftonbladets', 'My', 'Rohwedder', 'Aftonbladet', 'TV', 'Får', 'mindre', 'inflytande', 'Nomineringarna', 'väcker', 'reaktioner', 'vänsterblocket', 'skrämmande', 'ganska', 'chockartat', 'Utrikesutskottet', 'helst', 'ska', 'representera', 'Sveriges', 'riksdag', 'utomlands', 'överhuvudtaget', 'relationen', 'omvärlden', 'viktig', 'position', 'Moderaterna', 'sålt', 'tyvärr', 'tecken', 'väg', 'Ulf', 'Kristerssons', 'del', 'viktigt', 'få', 'makt', 'inflytande', 'säljer', 'billigt', 'säger', 'Lena', 'Hallengren', 'gruppledare', 'Socialdemokraterna', 'fortsätter', 'Utrikesutskottet', 'otroligt', 'betydelsefullt', 'omvärld', 'minst', 'sagt', 'orolig', 'läget', 'peka', 'sverigedemokrat', 'parti', 'rötter', 'nazismen', 'ska', 'företräda', 'svenska', 'folket', 'riksdagen', 'utrikes', '.', 'sätt', 'nog', 'lite', 'skakad', 'nog', 'ingenting', 'många', 'länder', 'gett', 'säkerhetsgarantier', 'undrar', 'Sverige', 'väg', 'Skämmer', 'Sverige', 'internationellt', 'Flera', 'politiska', 'ledare', 'protesterar', 'beslutet', 'sociala', 'medier', 'Miljöpartiets', 'språkrör', 'Märta', 'Stenevi', 'skriver', 'Twitter', 'högerextremt', 'parti', 'kunnat', 'välja', 'Putin', 'Biden', 'ska', 'leda', 'utrikesutskottet', 'försvarsutskottet', 'Finns', 'inget', 'gå', 'fel', 'V-ledaren', 'Nooshie', 'Dadgostar', 'instämmer', 'Återigen', 'skämmer', 'icke-tillträdda', 'regeringen', 'Sverige', 'internationellt', 'gången', 'genom', 'ge', 'Sverigedemokraterna', 'ordförandeposten', 'utrikesutskottet', 'skriver', 'Twitter', 'Vänsterpartiets', 'riksdagsledamot', 'Ali', 'Esbati', 'lyfter', 'också', 'SD-ledamöterna', 'Martin', 'Kinnunen', 'Markus', 'Wiechels', 'besök', 'Syrien', '2017', 'mötte', 'Assad-regimen', 'utrikesutskottet', 'antar', 'står', 'Marcus', 'Wiechel', 'Martin', 'Kinnunen', 'bägge', 'delegationsresa', 'eget', 'initiativ', 'UD', 's', 'avrådan', 'Syrien', '2017', 'skriver', 'Twitter', 'Även', 'Centerpartiets', 'avgående', 'partiledare', 'Annie', 'Lööf', 'går', 'attack', 'beslutet', 'M', 'KD', 'L', 'ger', 'SD', 'uppdrag', 'leda', 'utrikes-', 'försvarspolitiken', 'riksdagen', 'känsliga', 'säkerhetspolitiska', 'läge', 'Sverige', 'ska', 'medlem', 'Nato', 'ordförande', 'EU', 'olyckligt', 'kommer', 'påverka', 'Sveriges', 'anseende', 'världen', 'Får', 'mindre', 'inflytande', 'Utrikespolitiska', 'institutets', 'direktör', 'Jakob', 'Hallgren', 'tror', 'dock', 'utskottet', 'kommer', 'större', 'inverkan', 'svenska', 'utrikespolitiken', 'oerhört', 'viktig', 'post', 'kanske', 'mer', 'representativ', 'andra', 'utskottsposter', 'måste', 'komma', 'ihåg', 'utrikespolitiken', 'regering', 'utrikesminister', 'försvarsminister', 'mer', 'verkställande', 'makt', 'säger', 'tillägger', 'Frågan', 'stort', 'inflytande', 'ordförandefrågorna', 'får', 'riksdagspartierna', 'förhandlar', 'fram', 'överenskommelser', 'förväg', 'kommer', 'utskottet', 'få', 'mindre', 'inflytande', 'säger', '.']\n"
     ]
    }
   ],
   "source": [
    "# TEsting \n",
    "filtered_sentence = stop_word_filtering(org_sentences) \n",
    "print(filtered_sentence)"
   ]
  },
  {
   "cell_type": "markdown",
   "metadata": {},
   "source": [
    "# Ranking Measures"
   ]
  },
  {
   "cell_type": "markdown",
   "metadata": {},
   "source": [
    "### Baseline\n",
    "(1/N --> n=ordning mening kommer i dvs. första meningen får N=1 -> 1/1, andra meningen får N=2 -> 1/2, osv.)"
   ]
  },
  {
   "cell_type": "code",
   "execution_count": 34,
   "metadata": {},
   "outputs": [
    {
     "data": {
      "text/html": [
       "<div>\n",
       "<style scoped>\n",
       "    .dataframe tbody tr th:only-of-type {\n",
       "        vertical-align: middle;\n",
       "    }\n",
       "\n",
       "    .dataframe tbody tr th {\n",
       "        vertical-align: top;\n",
       "    }\n",
       "\n",
       "    .dataframe thead th {\n",
       "        text-align: right;\n",
       "    }\n",
       "</style>\n",
       "<table border=\"1\" class=\"dataframe\">\n",
       "  <thead>\n",
       "    <tr style=\"text-align: right;\">\n",
       "      <th></th>\n",
       "      <th>Baseline</th>\n",
       "      <th>Headings</th>\n",
       "      <th>TF</th>\n",
       "      <th>NER</th>\n",
       "    </tr>\n",
       "  </thead>\n",
       "  <tbody>\n",
       "    <tr>\n",
       "      <th>count</th>\n",
       "      <td>34.000000</td>\n",
       "      <td>34.0</td>\n",
       "      <td>34.0</td>\n",
       "      <td>34.0</td>\n",
       "    </tr>\n",
       "    <tr>\n",
       "      <th>mean</th>\n",
       "      <td>0.121124</td>\n",
       "      <td>0.0</td>\n",
       "      <td>0.0</td>\n",
       "      <td>0.0</td>\n",
       "    </tr>\n",
       "    <tr>\n",
       "      <th>std</th>\n",
       "      <td>0.183991</td>\n",
       "      <td>0.0</td>\n",
       "      <td>0.0</td>\n",
       "      <td>0.0</td>\n",
       "    </tr>\n",
       "    <tr>\n",
       "      <th>min</th>\n",
       "      <td>0.029412</td>\n",
       "      <td>0.0</td>\n",
       "      <td>0.0</td>\n",
       "      <td>0.0</td>\n",
       "    </tr>\n",
       "    <tr>\n",
       "      <th>25%</th>\n",
       "      <td>0.038846</td>\n",
       "      <td>0.0</td>\n",
       "      <td>0.0</td>\n",
       "      <td>0.0</td>\n",
       "    </tr>\n",
       "    <tr>\n",
       "      <th>50%</th>\n",
       "      <td>0.057190</td>\n",
       "      <td>0.0</td>\n",
       "      <td>0.0</td>\n",
       "      <td>0.0</td>\n",
       "    </tr>\n",
       "    <tr>\n",
       "      <th>75%</th>\n",
       "      <td>0.108333</td>\n",
       "      <td>0.0</td>\n",
       "      <td>0.0</td>\n",
       "      <td>0.0</td>\n",
       "    </tr>\n",
       "    <tr>\n",
       "      <th>max</th>\n",
       "      <td>1.000000</td>\n",
       "      <td>0.0</td>\n",
       "      <td>0.0</td>\n",
       "      <td>0.0</td>\n",
       "    </tr>\n",
       "  </tbody>\n",
       "</table>\n",
       "</div>"
      ],
      "text/plain": [
       "        Baseline  Headings    TF   NER\n",
       "count  34.000000      34.0  34.0  34.0\n",
       "mean    0.121124       0.0   0.0   0.0\n",
       "std     0.183991       0.0   0.0   0.0\n",
       "min     0.029412       0.0   0.0   0.0\n",
       "25%     0.038846       0.0   0.0   0.0\n",
       "50%     0.057190       0.0   0.0   0.0\n",
       "75%     0.108333       0.0   0.0   0.0\n",
       "max     1.000000       0.0   0.0   0.0"
      ]
     },
     "execution_count": 34,
     "metadata": {},
     "output_type": "execute_result"
    }
   ],
   "source": [
    "# Ranking metric 1 --> Baseline\n",
    "for i, score in enumerate(scores['Baseline']) :\n",
    "    scores['Baseline'][i] = 1/((i+1))\n",
    "scores.describe()"
   ]
  },
  {
   "cell_type": "markdown",
   "metadata": {},
   "source": [
    "### Headings"
   ]
  },
  {
   "cell_type": "code",
   "execution_count": 35,
   "metadata": {},
   "outputs": [
    {
     "data": {
      "text/html": [
       "<div>\n",
       "<style scoped>\n",
       "    .dataframe tbody tr th:only-of-type {\n",
       "        vertical-align: middle;\n",
       "    }\n",
       "\n",
       "    .dataframe tbody tr th {\n",
       "        vertical-align: top;\n",
       "    }\n",
       "\n",
       "    .dataframe thead th {\n",
       "        text-align: right;\n",
       "    }\n",
       "</style>\n",
       "<table border=\"1\" class=\"dataframe\">\n",
       "  <thead>\n",
       "    <tr style=\"text-align: right;\">\n",
       "      <th></th>\n",
       "      <th>Baseline</th>\n",
       "      <th>Headings</th>\n",
       "      <th>TF</th>\n",
       "      <th>NER</th>\n",
       "    </tr>\n",
       "  </thead>\n",
       "  <tbody>\n",
       "    <tr>\n",
       "      <th>count</th>\n",
       "      <td>34.000000</td>\n",
       "      <td>34.000000</td>\n",
       "      <td>34.0</td>\n",
       "      <td>34.0</td>\n",
       "    </tr>\n",
       "    <tr>\n",
       "      <th>mean</th>\n",
       "      <td>0.121124</td>\n",
       "      <td>1.352941</td>\n",
       "      <td>0.0</td>\n",
       "      <td>0.0</td>\n",
       "    </tr>\n",
       "    <tr>\n",
       "      <th>std</th>\n",
       "      <td>0.183991</td>\n",
       "      <td>1.011520</td>\n",
       "      <td>0.0</td>\n",
       "      <td>0.0</td>\n",
       "    </tr>\n",
       "    <tr>\n",
       "      <th>min</th>\n",
       "      <td>0.029412</td>\n",
       "      <td>0.000000</td>\n",
       "      <td>0.0</td>\n",
       "      <td>0.0</td>\n",
       "    </tr>\n",
       "    <tr>\n",
       "      <th>25%</th>\n",
       "      <td>0.038846</td>\n",
       "      <td>1.000000</td>\n",
       "      <td>0.0</td>\n",
       "      <td>0.0</td>\n",
       "    </tr>\n",
       "    <tr>\n",
       "      <th>50%</th>\n",
       "      <td>0.057190</td>\n",
       "      <td>1.000000</td>\n",
       "      <td>0.0</td>\n",
       "      <td>0.0</td>\n",
       "    </tr>\n",
       "    <tr>\n",
       "      <th>75%</th>\n",
       "      <td>0.108333</td>\n",
       "      <td>1.000000</td>\n",
       "      <td>0.0</td>\n",
       "      <td>0.0</td>\n",
       "    </tr>\n",
       "    <tr>\n",
       "      <th>max</th>\n",
       "      <td>1.000000</td>\n",
       "      <td>6.000000</td>\n",
       "      <td>0.0</td>\n",
       "      <td>0.0</td>\n",
       "    </tr>\n",
       "  </tbody>\n",
       "</table>\n",
       "</div>"
      ],
      "text/plain": [
       "        Baseline   Headings    TF   NER\n",
       "count  34.000000  34.000000  34.0  34.0\n",
       "mean    0.121124   1.352941   0.0   0.0\n",
       "std     0.183991   1.011520   0.0   0.0\n",
       "min     0.029412   0.000000   0.0   0.0\n",
       "25%     0.038846   1.000000   0.0   0.0\n",
       "50%     0.057190   1.000000   0.0   0.0\n",
       "75%     0.108333   1.000000   0.0   0.0\n",
       "max     1.000000   6.000000   0.0   0.0"
      ]
     },
     "execution_count": 35,
     "metadata": {},
     "output_type": "execute_result"
    }
   ],
   "source": [
    "# Ranking metric 2 --> Headings\n",
    "# Sets all 'Headings' scores to 0, mostly for testing so i can run this multiple times, \n",
    "# but also to make sure nothing weird has happened earlier in the code.\n",
    "scores['Headings'] = 0\n",
    "for i, sentence in enumerate(org_sentences):\n",
    "    for word in article.title.split(' '):\n",
    "        if word in sentence:\n",
    "            scores.at[i, 'Headings'] += 1\n",
    "scores.describe()"
   ]
  },
  {
   "cell_type": "markdown",
   "metadata": {},
   "source": [
    "## TERM FREQUENCY \n"
   ]
  },
  {
   "cell_type": "code",
   "execution_count": 36,
   "metadata": {},
   "outputs": [
    {
     "data": {
      "text/plain": [
       "<bound method NDFrame.head of     Baseline  Headings   TF  NER\n",
       "0   1.000000         6   32    0\n",
       "1   0.500000         1    8    0\n",
       "2   0.333333         2   53    0\n",
       "3   0.250000         1   17    0\n",
       "4   0.200000         1   39    0\n",
       "5   0.166667         3  101    0\n",
       "6   0.142857         2    6    0\n",
       "7   0.125000         1   39    0\n",
       "8   0.111111         1   48    0\n",
       "9   0.100000         1  104    0\n",
       "10  0.090909         1  127    0\n",
       "11  0.083333         1    3    0\n",
       "12  0.076923         1    6    0\n",
       "13  0.071429         0   29    0\n",
       "14  0.066667         1  150    0\n",
       "15  0.062500         1   11    0\n",
       "16  0.058824         1  266    0\n",
       "17  0.055556         1  144    0\n",
       "18  0.052632         1  174    0\n",
       "19  0.050000         1    3    0\n",
       "20  0.047619         1   22    0\n",
       "21  0.045455         1   98    0\n",
       "22  0.043478         1   46    0\n",
       "23  0.041667         1   13    0\n",
       "24  0.040000         1   60    0\n",
       "25  0.038462         2   55    0\n",
       "26  0.037037         1  134    0\n",
       "27  0.035714         2  113    0\n",
       "28  0.034483         1   78    0\n",
       "29  0.033333         1   66    0\n",
       "30  0.032258         1    3    0\n",
       "31  0.031250         1   59    0\n",
       "32  0.030303         3  264    0\n",
       "33  0.029412         1   26    0>"
      ]
     },
     "execution_count": 36,
     "metadata": {},
     "output_type": "execute_result"
    }
   ],
   "source": [
    "#\n",
    "scores['TF'] = 0\n",
    "\n",
    "fdist = frequency_distribution(org_sentences)\n",
    "\n",
    "for i, sentence in enumerate(org_sentences):\n",
    "    for word in sentence.split(' '):\n",
    "        #word = word.lemma\n",
    "        if word in fdist.keys():\n",
    "            scores.at[i, \"TF\"] += fdist.get(word)\n",
    "\n",
    "scores.describe()\n",
    "#scores['TF']\n",
    "scores.head"
   ]
  },
  {
   "cell_type": "markdown",
   "metadata": {},
   "source": []
  },
  {
   "cell_type": "markdown",
   "metadata": {},
   "source": [
    "### TF*IDF-score\n",
    "* Diskutera hur vi kan använda måtten \n",
    "* If similarity is close --> Similar content --> Remove redundance?  \n",
    "\n"
   ]
  },
  {
   "cell_type": "markdown",
   "metadata": {},
   "source": [
    "https://forketyfork.medium.com/latex-math-formulas-a-cheat-sheet-21e5eca70aae"
   ]
  },
  {
   "cell_type": "code",
   "execution_count": 37,
   "metadata": {},
   "outputs": [],
   "source": [
    "# Ranking metric 3 --> TF*IDF\n",
    "\n",
    "# Term Weights --> Calculate importance of single words in text/doc\n",
    "# Binary term weights --> document specific\n",
    "# TF*IDF term weights --> document-collection specific \n",
    "\n",
    "# Assign weights to each dimension (attr/word) of each sentence (record/example) \n",
    "\n",
    "# Term Frequency (TF-score) --> TFij == frequency of the jth term in in the ith doc \n",
    "\n",
    "# Inverse Document Frequency \n",
    "# idf-score of the jth term measures the uniqueness of the jth term in the collection of documents\n",
    "# IDFj = log(M / Nj)\n",
    "#\n",
    "# M = total num of docs in collection \n",
    "# Nj is the number of documents that contain the jth term\n",
    "\n",
    "# HIGH TF*IDF-score \n",
    "# Word frequent in document && Occur in few documents of the collection \n",
    "# LOW TF*IDF-score\n",
    "# Not present in document || present in all documents of the collection "
   ]
  },
  {
   "cell_type": "markdown",
   "metadata": {},
   "source": [
    "### NER \n",
    "* (nltk lib) --> (Meningar med Named Entities är troligtvis viktigare)"
   ]
  },
  {
   "cell_type": "code",
   "execution_count": 38,
   "metadata": {},
   "outputs": [
    {
     "name": "stdout",
     "output_type": "stream",
     "text": [
      "['SD', 'Socialdemokraternas', 'Lena', 'Aftonbladet', 'KD', 'Rohwedder', 'Aftonbladet', 'Sveriges', 'Kristerssons', 'Lena', 'Hallengren', 'Socialdemokraterna', 'Sverige', 'Sverige', 'Stenevi', 'Putin', 'Biden', 'Sverige', 'Esbati', 'Martin', 'Kinnunen', 'Markus', 'Wiechels', 'Syrien', 'Wiechel', 'Martin', 'Kinnunen', 'UD', 'Syrien', 'Annie', 'KD', 'SD', 'Sverige', 'Nato', 'EU', 'Sveriges', 'Jakob', 'Hallgren']\n",
      "['Martin', ' Biden', 'Stenevi', ' Syrien', 'Sveriges', ' Twitter', ' Ali', 'Sverige', 'Aftonbladet', 'Wiechel', ' Moderaterna', 'Kinnunen', 'Lena', 'Kristerssons', 'Syrien', ' Putin', ' Markus Wiechels', 'Rohwedder', 'Wiechels', ' Lena Hallengren', ' UD:s', 'Markus', ' KD', 'EU', 'Biden', 'Socialdemokraterna', ' Ulf Kristerssons', 'KD', 'UD', 'SD', 'Socialdemokraternas', ' Aftonbladets My Rohwedder', ' Skämmer', ' Martin Kinnunen', ' Märta', 'Nato', ' Annie', ' Sveriges', 'Annie', ' Aftonbladet', ' Jakob Hallgren', ' Miljöpartiets', ' Nato', 'Putin', ' Sverige', 'Hallengren', 'Jakob', 'Esbati', ' Lena', ' Esbati', ' Marcus Wiechel', 'Hallgren']\n"
     ]
    }
   ],
   "source": [
    "scores['NER'] = 0\n",
    "named_entities = named_entity_recognition(org_sentences)\n",
    "proper_nouns = proper_nouns(org_sentences)\n",
    "print(proper_nouns)\n",
    "\n",
    "ner_unique = list(set(named_entities + proper_nouns))\n",
    "print(ner_unique)\n",
    "#named_entities = set(named_entities)\n",
    "\n",
    "# Hittar inte allt p.g.a sentece.split(' ') där den splittar namn som t.ex \"ulf kristensson\" till \"ulf\" och \"kristensson\"\n",
    "# for i, sentence in enumerate(org_sentences) :\n",
    "#     #print(\"i\", i)\n",
    "#     print(i, \": \", sentence)\n",
    "#     for word in sentence.split(' '):\n",
    "#         #print(\"word\", word)\n",
    "#         if word in named_entities:\n",
    "#             #print(i, word)\n",
    "#             scores.at[i, \"NER\"] += 1\n",
    "\n",
    "#print(\"org sentences\\n\", org_sentences)\n",
    "#print(named_entities)\n",
    "#scores.describe()\n",
    "#print(scores)\n"
   ]
  },
  {
   "cell_type": "code",
   "execution_count": 39,
   "metadata": {},
   "outputs": [
    {
     "name": "stdout",
     "output_type": "stream",
     "text": [
      "['Socialdemokraternas', ' Lena', ' Aftonbladet', ' Moderaterna', ' KD', ' Aftonbladets My Rohwedder', ' Aftonbladet', ' Sveriges', ' Moderaterna', ' Ulf Kristerssons', ' Lena Hallengren', ' Sverige', ' Skämmer', ' Sverige', ' Miljöpartiets', ' Märta', ' Putin', ' Biden', ' Sverige', ' Twitter', ' Ali', ' Esbati', ' Martin Kinnunen', ' Markus Wiechels', ' Syrien', ' Marcus Wiechel', ' Martin Kinnunen', ' UD:s', ' Syrien', ' Twitter', ' Annie', ' KD', ' Sverige', ' Nato', ' Sveriges', ' Jakob Hallgren']\n",
      "SD får tunga poster i utskotten\n",
      "['SD']\n",
      "Publicerad: 30 september Uppdaterad: 30 september\n",
      "[]\n",
      "Sverigedemokraterna får ordförandeposten i riksdagens justitie- och utrikesutskott\n",
      "['Sverige']\n",
      "Nu går ledarna för vänsterblocket till hård attack\n",
      "[]\n",
      "– Det är skrämmande, ganska chockartat, säger Socialdemokraternas gruppledare Lena Hallengren till Aftonbladet\n",
      "['Socialdemokraterna', ' Lena Hallengren', 'Lena', 'Hallengren', ' Aftonbladet', 'Aftonbladet']\n",
      "Sverigedemokraterna , Moderaterna, Kristdemokraterna och Liberalerna har delat upp posterna i utskotten och EU-nämnden\n",
      "['Sverige', ' Moderaterna', 'EU']\n",
      "Där tar Sverigedemokraterna flera viktiga poster\n",
      "[' Sverige', 'Sverige']\n",
      "Bland annat tilldelas partiet ordförandeposten i arbetsmarknadsutskottet, näringsutskottet, justitieutskottet samt utrikesutskottet, enligt ett pressmeddelande\n",
      "[]\n",
      "De erhåller även posten som vice ordförande i civilutskottet, trafikutskottet, försvarsutskottet samt skatteutskottet\n",
      "[]\n",
      "– Det som överraskade mig mest, men som jag kan se varför de vill ha, är ordförandeposten i utrikesutskottet\n",
      "[]\n",
      "Det är ett tecken på att de lyckats i förhandlingen med M och KD, säger Aftonbladets My Rohwedder i Aftonbladet TV\n",
      "[' KD', 'KD', ' Aftonbladets My Rohwedder', 'Aftonbladet', 'Rohwedder', ' Aftonbladet', 'Aftonbladet']\n",
      "”Får mindre inflytande”\n",
      "[]\n",
      "Nomineringarna väcker reaktioner inom vänsterblocket\n",
      "[]\n",
      "– Det är skrämmande, ganska chockartat\n",
      "[]\n",
      "Utrikesutskottet är inte vilket som helst, det ska representera Sveriges riksdag utomlands och överhuvudtaget i relationen till omvärlden, så det är en viktig position\n",
      "[' Sveriges', 'Sveriges']\n",
      "Och här har Moderaterna sålt sig\n",
      "[' Moderaterna']\n",
      "Det är tyvärr ett tecken på vart vi är på väg, att för Ulf Kristerssons del är det viktigt att få makt och inflytande, man säljer sig billigt, säger Lena Hallengren, gruppledare för Socialdemokraterna och fortsätter: – Utrikesutskottet är otroligt betydelsefullt med en omvärld som är minst sagt orolig\n",
      "[' Ulf Kristerssons', 'Kristerssons', ' Lena Hallengren', 'Lena', 'Hallengren', 'Socialdemokraterna']\n",
      "Att i det läget peka ut en sverigedemokrat, ett parti med rötter i nazismen, som den som ska företräda svenska folket i riksdagen utrikes.\n",
      "[]\n",
      "på samma sätt som jag nog är lite skakad av detta är det nog ingenting mot vad många av de länder som gett oss säkerhetsgarantier är, som undrar vart Sverige är på väg\n",
      "[' Sverige', 'Sverige']\n",
      "”Skämmer ut Sverige internationellt”\n",
      "[' Sverige', 'Sverige']\n",
      "Flera politiska ledare protesterar mot beslutet på sociala medier\n",
      "[]\n",
      "Miljöpartiets språkrör Märta Stenevi skriver på Twitter: ”Så ett högerextremt parti som inte kunnat välja mellan Putin och Biden ska leda utrikesutskottet och försvarsutskottet\n",
      "[' Märta', 'Stenevi', ' Twitter', ' Putin', 'Putin', ' Biden', 'Biden']\n",
      "Finns ju inget som kan kan gå fel i detta”\n",
      "[]\n",
      "V-ledaren Nooshie Dadgostar instämmer: ”Återigen skämmer den icke-tillträdda regeringen ut Sverige internationellt\n",
      "[' Sverige', 'Sverige']\n",
      "Den här gången genom att ge Sverigedemokraterna ordförandeposten i utrikesutskottet”, skriver hon på Twitter\n",
      "[' Sverige', 'Sverige', ' Twitter']\n",
      "Vänsterpartiets riksdagsledamot Ali Esbati lyfter också SD-ledamöterna Martin Kinnunen och Markus Wiechels besök i Syrien 2017 där de mötte Assad-regimen\n",
      "[' Ali', ' Esbati', 'Esbati', 'SD', ' Martin Kinnunen', 'Martin', 'Kinnunen', ' Markus Wiechels', 'Markus', 'Wiechel', ' Syrien', 'Syrien']\n",
      "”För utrikesutskottet antar jag att det står mellan Marcus Wiechel och Martin Kinnunen, här bägge på delegationsresa på eget initiativ och mot UD:s avrådan, till Syrien 2017”, skriver han på Twitter\n",
      "[' Marcus Wiechel', 'Wiechel', ' Martin Kinnunen', 'Martin', 'Kinnunen', ' UD:s', 'UD', ' Syrien', 'Syrien', ' Twitter']\n",
      "Även Centerpartiets avgående partiledare Annie Lööf går till attack efter beslutet: ”Så M, KD och L ger SD i uppdrag att leda utrikes- och försvarspolitiken i riksdagen\n",
      "[' Annie', 'Annie', ' KD', 'KD', 'SD']\n",
      "I detta känsliga säkerhetspolitiska läge, när Sverige ska bli medlem i Nato och vara ordförande i EU\n",
      "[' Sverige', 'Sverige', ' Nato', 'Nato', 'EU']\n",
      "Det är olyckligt och kommer påverka Sveriges anseende i världen”\n",
      "[' Sveriges', 'Sveriges']\n",
      "”Får mindre inflytande”\n",
      "[]\n",
      "Utrikespolitiska institutets direktör Jakob Hallgren tror dock inte att utskottet kommer att ha någon större inverkan på den svenska utrikespolitiken\n",
      "[' Jakob Hallgren', 'Jakob', 'Hallgren']\n",
      "– Det här är en oerhört viktig post som kanske är mer representativ än andra utskottsposter, men man måste komma ihåg att inom utrikespolitiken har vi en regering, en utrikesminister och en försvarsminister som har mycket mer verkställande makt, säger han och tillägger: – Frågan är hur stort inflytande ordförandefrågorna får om riksdagspartierna förhandlar fram överenskommelser i förväg\n",
      "[]\n",
      "Då kommer utskottet att få mindre inflytande, säger han.\n",
      "[]\n"
     ]
    }
   ],
   "source": [
    "# Borrowed from https://stackoverflow.com/questions/33406313/how-to-match-any-string-from-a-list-of-strings-in-regular-expressions-in-python\n",
    "#p = re.compile(r\"\\L<words>\", words=['fun', 'dum', 'sun', 'gum'])\n",
    "\n",
    "print(named_entities)\n",
    "for i, sentence in enumerate(org_sentences):\n",
    "    print(sentence)\n",
    "    matches = re.findall(r\"(?=(\\b\" + '|'.join(ner_unique) + r\"\\b))\", sentence) \n",
    "    print(matches)\n",
    "    scores.at[i, \"NER\"] = len(matches)"
   ]
  },
  {
   "cell_type": "markdown",
   "metadata": {},
   "source": [
    "# Combination Function"
   ]
  },
  {
   "cell_type": "markdown",
   "metadata": {},
   "source": [
    "#### Standardize"
   ]
  },
  {
   "cell_type": "code",
   "execution_count": 40,
   "metadata": {},
   "outputs": [
    {
     "data": {
      "text/html": [
       "<div>\n",
       "<style scoped>\n",
       "    .dataframe tbody tr th:only-of-type {\n",
       "        vertical-align: middle;\n",
       "    }\n",
       "\n",
       "    .dataframe tbody tr th {\n",
       "        vertical-align: top;\n",
       "    }\n",
       "\n",
       "    .dataframe thead th {\n",
       "        text-align: right;\n",
       "    }\n",
       "</style>\n",
       "<table border=\"1\" class=\"dataframe\">\n",
       "  <thead>\n",
       "    <tr style=\"text-align: right;\">\n",
       "      <th></th>\n",
       "      <th>Baseline</th>\n",
       "      <th>Headings</th>\n",
       "      <th>TF</th>\n",
       "      <th>NER</th>\n",
       "    </tr>\n",
       "  </thead>\n",
       "  <tbody>\n",
       "    <tr>\n",
       "      <th>0</th>\n",
       "      <td>4.848572</td>\n",
       "      <td>4.663223</td>\n",
       "      <td>-0.566504</td>\n",
       "      <td>-0.460010</td>\n",
       "    </tr>\n",
       "    <tr>\n",
       "      <th>1</th>\n",
       "      <td>2.090179</td>\n",
       "      <td>-0.354169</td>\n",
       "      <td>-0.919649</td>\n",
       "      <td>-0.785850</td>\n",
       "    </tr>\n",
       "    <tr>\n",
       "      <th>2</th>\n",
       "      <td>1.170715</td>\n",
       "      <td>0.649309</td>\n",
       "      <td>-0.257502</td>\n",
       "      <td>-0.460010</td>\n",
       "    </tr>\n",
       "    <tr>\n",
       "      <th>3</th>\n",
       "      <td>0.710982</td>\n",
       "      <td>-0.354169</td>\n",
       "      <td>-0.787219</td>\n",
       "      <td>-0.785850</td>\n",
       "    </tr>\n",
       "    <tr>\n",
       "      <th>4</th>\n",
       "      <td>0.435143</td>\n",
       "      <td>-0.354169</td>\n",
       "      <td>-0.463503</td>\n",
       "      <td>1.169192</td>\n",
       "    </tr>\n",
       "    <tr>\n",
       "      <th>5</th>\n",
       "      <td>0.251250</td>\n",
       "      <td>1.652788</td>\n",
       "      <td>0.448789</td>\n",
       "      <td>0.191671</td>\n",
       "    </tr>\n",
       "    <tr>\n",
       "      <th>6</th>\n",
       "      <td>0.119898</td>\n",
       "      <td>0.649309</td>\n",
       "      <td>-0.949077</td>\n",
       "      <td>-0.134170</td>\n",
       "    </tr>\n",
       "    <tr>\n",
       "      <th>7</th>\n",
       "      <td>0.021384</td>\n",
       "      <td>-0.354169</td>\n",
       "      <td>-0.463503</td>\n",
       "      <td>-0.785850</td>\n",
       "    </tr>\n",
       "    <tr>\n",
       "      <th>8</th>\n",
       "      <td>-0.055238</td>\n",
       "      <td>-0.354169</td>\n",
       "      <td>-0.331074</td>\n",
       "      <td>-0.785850</td>\n",
       "    </tr>\n",
       "    <tr>\n",
       "      <th>9</th>\n",
       "      <td>-0.116536</td>\n",
       "      <td>-0.354169</td>\n",
       "      <td>0.492932</td>\n",
       "      <td>-0.785850</td>\n",
       "    </tr>\n",
       "    <tr>\n",
       "      <th>10</th>\n",
       "      <td>-0.166688</td>\n",
       "      <td>-0.354169</td>\n",
       "      <td>0.831362</td>\n",
       "      <td>1.495032</td>\n",
       "    </tr>\n",
       "    <tr>\n",
       "      <th>11</th>\n",
       "      <td>-0.208482</td>\n",
       "      <td>-0.354169</td>\n",
       "      <td>-0.993221</td>\n",
       "      <td>-0.785850</td>\n",
       "    </tr>\n",
       "    <tr>\n",
       "      <th>12</th>\n",
       "      <td>-0.243846</td>\n",
       "      <td>-0.354169</td>\n",
       "      <td>-0.949077</td>\n",
       "      <td>-0.785850</td>\n",
       "    </tr>\n",
       "    <tr>\n",
       "      <th>13</th>\n",
       "      <td>-0.274158</td>\n",
       "      <td>-1.357647</td>\n",
       "      <td>-0.610647</td>\n",
       "      <td>-0.785850</td>\n",
       "    </tr>\n",
       "    <tr>\n",
       "      <th>14</th>\n",
       "      <td>-0.300429</td>\n",
       "      <td>-0.354169</td>\n",
       "      <td>1.169793</td>\n",
       "      <td>-0.134170</td>\n",
       "    </tr>\n",
       "    <tr>\n",
       "      <th>15</th>\n",
       "      <td>-0.323415</td>\n",
       "      <td>-0.354169</td>\n",
       "      <td>-0.875506</td>\n",
       "      <td>-0.460010</td>\n",
       "    </tr>\n",
       "    <tr>\n",
       "      <th>16</th>\n",
       "      <td>-0.343697</td>\n",
       "      <td>-0.354169</td>\n",
       "      <td>2.876661</td>\n",
       "      <td>1.169192</td>\n",
       "    </tr>\n",
       "    <tr>\n",
       "      <th>17</th>\n",
       "      <td>-0.361726</td>\n",
       "      <td>-0.354169</td>\n",
       "      <td>1.081507</td>\n",
       "      <td>-0.785850</td>\n",
       "    </tr>\n",
       "    <tr>\n",
       "      <th>18</th>\n",
       "      <td>-0.377857</td>\n",
       "      <td>-0.354169</td>\n",
       "      <td>1.522938</td>\n",
       "      <td>-0.134170</td>\n",
       "    </tr>\n",
       "    <tr>\n",
       "      <th>19</th>\n",
       "      <td>-0.392375</td>\n",
       "      <td>-0.354169</td>\n",
       "      <td>-0.993221</td>\n",
       "      <td>-0.134170</td>\n",
       "    </tr>\n",
       "    <tr>\n",
       "      <th>20</th>\n",
       "      <td>-0.405510</td>\n",
       "      <td>-0.354169</td>\n",
       "      <td>-0.713647</td>\n",
       "      <td>-0.785850</td>\n",
       "    </tr>\n",
       "    <tr>\n",
       "      <th>21</th>\n",
       "      <td>-0.417451</td>\n",
       "      <td>-0.354169</td>\n",
       "      <td>0.404645</td>\n",
       "      <td>1.495032</td>\n",
       "    </tr>\n",
       "    <tr>\n",
       "      <th>22</th>\n",
       "      <td>-0.428354</td>\n",
       "      <td>-0.354169</td>\n",
       "      <td>-0.360502</td>\n",
       "      <td>-0.785850</td>\n",
       "    </tr>\n",
       "    <tr>\n",
       "      <th>23</th>\n",
       "      <td>-0.438348</td>\n",
       "      <td>-0.354169</td>\n",
       "      <td>-0.846077</td>\n",
       "      <td>-0.134170</td>\n",
       "    </tr>\n",
       "    <tr>\n",
       "      <th>24</th>\n",
       "      <td>-0.447543</td>\n",
       "      <td>-0.354169</td>\n",
       "      <td>-0.154501</td>\n",
       "      <td>0.191671</td>\n",
       "    </tr>\n",
       "    <tr>\n",
       "      <th>25</th>\n",
       "      <td>-0.456030</td>\n",
       "      <td>0.649309</td>\n",
       "      <td>-0.228073</td>\n",
       "      <td>3.124234</td>\n",
       "    </tr>\n",
       "    <tr>\n",
       "      <th>26</th>\n",
       "      <td>-0.463889</td>\n",
       "      <td>-0.354169</td>\n",
       "      <td>0.934363</td>\n",
       "      <td>2.472553</td>\n",
       "    </tr>\n",
       "    <tr>\n",
       "      <th>27</th>\n",
       "      <td>-0.471186</td>\n",
       "      <td>0.649309</td>\n",
       "      <td>0.625361</td>\n",
       "      <td>0.843351</td>\n",
       "    </tr>\n",
       "    <tr>\n",
       "      <th>28</th>\n",
       "      <td>-0.477980</td>\n",
       "      <td>-0.354169</td>\n",
       "      <td>0.110358</td>\n",
       "      <td>0.843351</td>\n",
       "    </tr>\n",
       "    <tr>\n",
       "      <th>29</th>\n",
       "      <td>-0.484321</td>\n",
       "      <td>-0.354169</td>\n",
       "      <td>-0.066215</td>\n",
       "      <td>-0.134170</td>\n",
       "    </tr>\n",
       "    <tr>\n",
       "      <th>30</th>\n",
       "      <td>-0.490253</td>\n",
       "      <td>-0.354169</td>\n",
       "      <td>-0.993221</td>\n",
       "      <td>-0.785850</td>\n",
       "    </tr>\n",
       "    <tr>\n",
       "      <th>31</th>\n",
       "      <td>-0.495815</td>\n",
       "      <td>-0.354169</td>\n",
       "      <td>-0.169215</td>\n",
       "      <td>0.191671</td>\n",
       "    </tr>\n",
       "    <tr>\n",
       "      <th>32</th>\n",
       "      <td>-0.501039</td>\n",
       "      <td>1.652788</td>\n",
       "      <td>2.847232</td>\n",
       "      <td>-0.785850</td>\n",
       "    </tr>\n",
       "    <tr>\n",
       "      <th>33</th>\n",
       "      <td>-0.505956</td>\n",
       "      <td>-0.354169</td>\n",
       "      <td>-0.654790</td>\n",
       "      <td>-0.785850</td>\n",
       "    </tr>\n",
       "  </tbody>\n",
       "</table>\n",
       "</div>"
      ],
      "text/plain": [
       "    Baseline  Headings        TF       NER\n",
       "0   4.848572  4.663223 -0.566504 -0.460010\n",
       "1   2.090179 -0.354169 -0.919649 -0.785850\n",
       "2   1.170715  0.649309 -0.257502 -0.460010\n",
       "3   0.710982 -0.354169 -0.787219 -0.785850\n",
       "4   0.435143 -0.354169 -0.463503  1.169192\n",
       "5   0.251250  1.652788  0.448789  0.191671\n",
       "6   0.119898  0.649309 -0.949077 -0.134170\n",
       "7   0.021384 -0.354169 -0.463503 -0.785850\n",
       "8  -0.055238 -0.354169 -0.331074 -0.785850\n",
       "9  -0.116536 -0.354169  0.492932 -0.785850\n",
       "10 -0.166688 -0.354169  0.831362  1.495032\n",
       "11 -0.208482 -0.354169 -0.993221 -0.785850\n",
       "12 -0.243846 -0.354169 -0.949077 -0.785850\n",
       "13 -0.274158 -1.357647 -0.610647 -0.785850\n",
       "14 -0.300429 -0.354169  1.169793 -0.134170\n",
       "15 -0.323415 -0.354169 -0.875506 -0.460010\n",
       "16 -0.343697 -0.354169  2.876661  1.169192\n",
       "17 -0.361726 -0.354169  1.081507 -0.785850\n",
       "18 -0.377857 -0.354169  1.522938 -0.134170\n",
       "19 -0.392375 -0.354169 -0.993221 -0.134170\n",
       "20 -0.405510 -0.354169 -0.713647 -0.785850\n",
       "21 -0.417451 -0.354169  0.404645  1.495032\n",
       "22 -0.428354 -0.354169 -0.360502 -0.785850\n",
       "23 -0.438348 -0.354169 -0.846077 -0.134170\n",
       "24 -0.447543 -0.354169 -0.154501  0.191671\n",
       "25 -0.456030  0.649309 -0.228073  3.124234\n",
       "26 -0.463889 -0.354169  0.934363  2.472553\n",
       "27 -0.471186  0.649309  0.625361  0.843351\n",
       "28 -0.477980 -0.354169  0.110358  0.843351\n",
       "29 -0.484321 -0.354169 -0.066215 -0.134170\n",
       "30 -0.490253 -0.354169 -0.993221 -0.785850\n",
       "31 -0.495815 -0.354169 -0.169215  0.191671\n",
       "32 -0.501039  1.652788  2.847232 -0.785850\n",
       "33 -0.505956 -0.354169 -0.654790 -0.785850"
      ]
     },
     "execution_count": 40,
     "metadata": {},
     "output_type": "execute_result"
    }
   ],
   "source": [
    "# Standardize\n",
    "scores_standardized = StandardScaler.fit_transform(self=StandardScaler(), X=scores)\n",
    "scores_standardized = pd.DataFrame(scores_standardized, columns=columns)\n",
    "scores_standardized"
   ]
  },
  {
   "cell_type": "markdown",
   "metadata": {},
   "source": [
    "#### Calculate Summarization Length (number of sentences)"
   ]
  },
  {
   "cell_type": "code",
   "execution_count": 41,
   "metadata": {},
   "outputs": [
    {
     "name": "stdout",
     "output_type": "stream",
     "text": [
      "summarization:  5 \n",
      "original:  34\n"
     ]
    }
   ],
   "source": [
    "num_of_org_sentences = len(org_sentences)\n",
    "summarization_num_sentences = round(num_of_org_sentences * percentage)\n",
    "\n",
    "print(\"summarization: \", summarization_num_sentences, \"\\noriginal: \", num_of_org_sentences)"
   ]
  },
  {
   "cell_type": "markdown",
   "metadata": {},
   "source": [
    "#### Combine\n",
    "* Combine the scores into one overall score\n",
    "* add weight and/or ML if time allows"
   ]
  },
  {
   "cell_type": "code",
   "execution_count": 42,
   "metadata": {},
   "outputs": [
    {
     "name": "stdout",
     "output_type": "stream",
     "text": [
      "[ 0 16 32 25 26]\n",
      "SD får tunga poster i utskotten\n"
     ]
    }
   ],
   "source": [
    "# Combination Function\n",
    "# Här ligger ML om vi gör det  \n",
    "\n",
    "final_score = scores_standardized.sum(axis=1)\n",
    "best_sentences = final_score.nlargest(summarization_num_sentences, keep='all').index.values\n",
    "print(best_sentences)\n",
    "\n",
    "print(org_sentences[0])\n"
   ]
  },
  {
   "cell_type": "markdown",
   "metadata": {},
   "source": [
    "# Assemble output \n",
    "* Reassemble according to overall score ranking\n",
    "* Output summarization "
   ]
  },
  {
   "cell_type": "code",
   "execution_count": 43,
   "metadata": {},
   "outputs": [
    {
     "name": "stdout",
     "output_type": "stream",
     "text": [
      "Percentage:\n",
      "\n",
      "SD får tunga poster i utskotten\n",
      "Det är tyvärr ett tecken på vart vi är på väg, att för Ulf Kristerssons del är det viktigt att få makt och inflytande, man säljer sig billigt, säger Lena Hallengren, gruppledare för Socialdemokraterna och fortsätter: – Utrikesutskottet är otroligt betydelsefullt med en omvärld som är minst sagt orolig\n",
      "– Det här är en oerhört viktig post som kanske är mer representativ än andra utskottsposter, men man måste komma ihåg att inom utrikespolitiken har vi en regering, en utrikesminister och en försvarsminister som har mycket mer verkställande makt, säger han och tillägger: – Frågan är hur stort inflytande ordförandefrågorna får om riksdagspartierna förhandlar fram överenskommelser i förväg\n",
      "Vänsterpartiets riksdagsledamot Ali Esbati lyfter också SD-ledamöterna Martin Kinnunen och Markus Wiechels besök i Syrien 2017 där de mötte Assad-regimen\n",
      "”För utrikesutskottet antar jag att det står mellan Marcus Wiechel och Martin Kinnunen, här bägge på delegationsresa på eget initiativ och mot UD:s avrådan, till Syrien 2017”, skriver han på Twitter\n",
      "\n",
      "\n",
      "\n",
      "N sentences:\n",
      "\n",
      "SD får tunga poster i utskotten\n",
      "Det är tyvärr ett tecken på vart vi är på väg, att för Ulf Kristerssons del är det viktigt att få makt och inflytande, man säljer sig billigt, säger Lena Hallengren, gruppledare för Socialdemokraterna och fortsätter: – Utrikesutskottet är otroligt betydelsefullt med en omvärld som är minst sagt orolig\n",
      "– Det här är en oerhört viktig post som kanske är mer representativ än andra utskottsposter, men man måste komma ihåg att inom utrikespolitiken har vi en regering, en utrikesminister och en försvarsminister som har mycket mer verkställande makt, säger han och tillägger: – Frågan är hur stort inflytande ordförandefrågorna får om riksdagspartierna förhandlar fram överenskommelser i förväg\n"
     ]
    }
   ],
   "source": [
    "# Assemble Output \n",
    "print(\"Percentage:\\n\")\n",
    "for i in best_sentences: \n",
    "    print(org_sentences[i])\n",
    "\n",
    "print(\"\\n\\n\")\n",
    "\n",
    "print(\"N sentences:\\n\")\n",
    "for i in best_sentences[0:3]: \n",
    "    print(org_sentences[i])"
   ]
  },
  {
   "cell_type": "code",
   "execution_count": 44,
   "metadata": {},
   "outputs": [
    {
     "name": "stdout",
     "output_type": "stream",
     "text": [
      "\n",
      "Newspaper3k: \n",
      " SD får tunga poster i utskottenPublicerad: 30 september Uppdaterad: 30 septemberSverigedemokraterna får ordförandeposten i riksdagens justitie- och utrikesutskott.\n",
      "Utrikesutskottet är inte vilket som helst, det ska representera Sveriges riksdag utomlands och överhuvudtaget i relationen till omvärlden, så det är en viktig position.\n",
      "Den här gången genom att ge Sverigedemokraterna ordförandeposten i utrikesutskottet”, skriver hon på Twitter.\n",
      "I detta känsliga säkerhetspolitiska läge, när Sverige ska bli medlem i Nato och vara ordförande i EU.\n",
      "”Får mindre inflytande”Utrikespolitiska institutets direktör Jakob Hallgren tror dock inte att utskottet kommer att ha någon större inverkan på den svenska utrikespolitiken.\n"
     ]
    }
   ],
   "source": [
    "# Newspaper Summarization\n",
    "article.nlp()\n",
    "print(\"\\nNewspaper3k: \\n\", article.summary)"
   ]
  }
 ],
 "metadata": {
  "kernelspec": {
   "display_name": "Python 3.10.6 ('venv': venv)",
   "language": "python",
   "name": "python3"
  },
  "language_info": {
   "codemirror_mode": {
    "name": "ipython",
    "version": 3
   },
   "file_extension": ".py",
   "mimetype": "text/x-python",
   "name": "python",
   "nbconvert_exporter": "python",
   "pygments_lexer": "ipython3",
   "version": "3.10.6"
  },
  "orig_nbformat": 4,
  "vscode": {
   "interpreter": {
    "hash": "f84c718007c4e73e911614ffefbbc4d70113307eb785d27a429d66e7eb72440b"
   }
  }
 },
 "nbformat": 4,
 "nbformat_minor": 2
}
