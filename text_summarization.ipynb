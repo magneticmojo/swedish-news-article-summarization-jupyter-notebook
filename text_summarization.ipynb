{
 "cells": [
  {
   "cell_type": "markdown",
   "metadata": {},
   "source": [
    "## Extraktionsbaserad textsammanfattare med olika rankningsmått "
   ]
  },
  {
   "cell_type": "markdown",
   "metadata": {},
   "source": [
    "Prio: \n",
    "* Hämtning | vi väljer korpus \n",
    "* Cleaning / preprocessing \n",
    "* (Under tiden fundera på om vi skulle kunna använda maskinlärningsmetoder på något sätt)"
   ]
  },
  {
   "cell_type": "markdown",
   "metadata": {},
   "source": [
    "# ALGORITHM \n",
    "### Preprocessing\n",
    "* Input corpus \n",
    "* Store away stopwords \n",
    "\n",
    "### Rankingmått \n",
    "* Headings\n",
    "* Cohesion and lexical connectedness criteria\n",
    "Finns underkriterier för måttet \n",
    "* NER (nltk lib)\n",
    "\n",
    "* Store score for each sentence \n",
    "\n",
    "### Assemble output \n",
    "* Reassemble according to ranking \n",
    "* Output summarization "
   ]
  }
 ],
 "metadata": {
  "kernelspec": {
   "display_name": "Python 3.10.6 ('venv': venv)",
   "language": "python",
   "name": "python3"
  },
  "language_info": {
   "codemirror_mode": {
    "name": "ipython",
    "version": 3
   },
   "file_extension": ".py",
   "mimetype": "text/x-python",
   "name": "python",
   "nbconvert_exporter": "python",
   "pygments_lexer": "ipython3",
   "version": "3.10.6"
  },
  "orig_nbformat": 4,
  "vscode": {
   "interpreter": {
    "hash": "f84c718007c4e73e911614ffefbbc4d70113307eb785d27a429d66e7eb72440b"
   }
  }
 },
 "nbformat": 4,
 "nbformat_minor": 2
}
